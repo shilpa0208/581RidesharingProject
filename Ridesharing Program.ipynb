{
 "cells": [
  {
   "cell_type": "markdown",
   "metadata": {
    "deletable": true,
    "editable": true
   },
   "source": [
    "# EXECUTE ALL CELLS BY HITTING SHIFT + ENTER TOGETHER"
   ]
  },
  {
   "cell_type": "code",
   "execution_count": 27,
   "metadata": {
    "collapsed": false,
    "deletable": true,
    "editable": true
   },
   "outputs": [],
   "source": [
    "import time\n",
    "import requests\n",
    "import json\n",
    "import openpyxl"
   ]
  },
  {
   "cell_type": "code",
   "execution_count": 28,
   "metadata": {
    "collapsed": false,
    "deletable": true,
    "editable": true
   },
   "outputs": [],
   "source": [
    "import pandas as pd"
   ]
  },
  {
   "cell_type": "code",
   "execution_count": 29,
   "metadata": {
    "collapsed": false,
    "deletable": true,
    "editable": true
   },
   "outputs": [],
   "source": [
    "def withinTimeInterval(start,end, timestamp):\n",
    "    start = pd.to_datetime(start)\n",
    "    end = pd.to_datetime(end)\n",
    "    timestamp = pd.to_datetime(timestamp)\n",
    "    if (timestamp >= start) and (timestamp <= end):\n",
    "        return True\n",
    "    else:\n",
    "        return False"
   ]
  },
  {
   "cell_type": "code",
   "execution_count": 30,
   "metadata": {
    "collapsed": true,
    "deletable": true,
    "editable": true
   },
   "outputs": [],
   "source": [
    "def JFKToAPoint(lat1,long1):\n",
    "    reqString = \"http://localhost:8989/route?point=40.646016%2C-73.778438&point=\"+str(lat1)+\"%2C\"+str(long1)+\"&vehicle=car\"\n",
    "    \n",
    "    return requests.get(reqString)"
   ]
  },
  {
   "cell_type": "code",
   "execution_count": 31,
   "metadata": {
    "collapsed": true,
    "deletable": true,
    "editable": true
   },
   "outputs": [],
   "source": [
    "def JFKToAPointDist(lat,long):\n",
    "    response = JFKToAPoint(lat,long)\n",
    "    if 'paths' in response.json().keys():\n",
    "        return response.json()['paths'][0]['distance']\n",
    "    return 0"
   ]
  },
  {
   "cell_type": "markdown",
   "metadata": {
    "deletable": true,
    "editable": true
   },
   "source": [
    "# 1) Change Excel File Name to: \"Delay1_2.xlsx\" or \"...1_3.xlsx\" or \"....1_5.xlsx\" to get data for the desired delay factor"
   ]
  },
  {
   "cell_type": "code",
   "execution_count": null,
   "metadata": {
    "collapsed": false,
    "deletable": true,
    "editable": true
   },
   "outputs": [],
   "source": [
    "readData = pd.ExcelFile(\"Delay1_3.xlsx\")\n",
    "JFKStarts = readData.parse(\"Sheet1\")\n",
    "#JFKStarts.head()"
   ]
  },
  {
   "cell_type": "code",
   "execution_count": 34,
   "metadata": {
    "collapsed": false,
    "deletable": true,
    "editable": true
   },
   "outputs": [],
   "source": [
    "def createPools(startDate,noOfPools,poolWindow): #('5/1/13',10,2min)\n",
    "    res = pd.date_range(start=startDate, periods = noOfPools, freq=poolWindow)\n",
    "    print(res)\n",
    "    poolList = []\n",
    "    i=0\n",
    "    print(\"Creating Pools: \")\n",
    "    for i in range(noOfPools-1):\n",
    "        print(\"Creating Pool:\")\n",
    "        print(res[i],res[i+1]-pd.Timedelta('1min'))\n",
    "        pool = JFKStarts[JFKStarts.apply(lambda x: withinTimeInterval(res[i],res[i+1]-pd.Timedelta('1min'),x[' pickup_datetime']), axis =1)]\n",
    "        poolList.append(pool)\n",
    "   \n",
    "    return poolList\n",
    "    "
   ]
  },
  {
   "cell_type": "code",
   "execution_count": 58,
   "metadata": {
    "collapsed": false,
    "deletable": true,
    "editable": true
   },
   "outputs": [],
   "source": [
    "def mainFunction(startDate,noOfPools,poolWindow):\n",
    "    poolList = createPools(startDate,noOfPools+1,poolWindow)\n",
    "    poolData = []\n",
    "    for pool in poolList:\n",
    "        poolData.append(createPoolData(pool))\n",
    "       \n",
    "    rowValue = 1\n",
    "    for pool in poolData:\n",
    "        print(\"*****************************\")\n",
    "        start_time = time.clock()\n",
    "        processPool(pool, rowValue)\n",
    "        end_time = time.clock() - start_time\n",
    "        print(\"Computation Time (Seconds): \"+ str(end_time))\n",
    "        #print(end_time)\n",
    "        \n",
    "        sheet1.write(rowValue,12,end_time)\n",
    "        rowValue +=1\n",
    "    \n",
    "    book1.close()"
   ]
  },
  {
   "cell_type": "code",
   "execution_count": 59,
   "metadata": {
    "collapsed": true,
    "deletable": true,
    "editable": true
   },
   "outputs": [],
   "source": [
    "def mainFunction2(startDate,noOfPools,poolWindow):\n",
    "    poolList = createPools(startDate,noOfPools+1,poolWindow)\n",
    "    poolData = []\n",
    "    for pool in poolList:\n",
    "        poolData.append(createPoolData(pool))\n",
    "       \n",
    "    rowValue = 1\n",
    "    for pool in poolData:\n",
    "        print(\"*****************************\")\n",
    "        start_time = time.clock()\n",
    "        ridesharingWithKas2(pool, rowValue)\n",
    "        end_time = time.clock() - start_time\n",
    "        print(\"Computation Time (Seconds): \"+ str(end_time))\n",
    "        #print(end_time)\n",
    "        \n",
    "        sheet2.write(rowValue,9,end_time)\n",
    "        rowValue +=1\n",
    "    \n",
    "    book2.close()"
   ]
  },
  {
   "cell_type": "code",
   "execution_count": 37,
   "metadata": {
    "collapsed": true,
    "deletable": true,
    "editable": true
   },
   "outputs": [],
   "source": [
    "def createPoolData(pool):\n",
    "    PoolData = {}\n",
    "    PoolDict ={}\n",
    "    for index,row in pool.iterrows():\n",
    "        PoolDict[index] = {'passenger_count':row[' passenger_count'],'dropoff_longitude':row[' dropoff_longitude'],'dropoff_latitude':row[' dropoff_latitude'], 'delay_time':row['delay_time'],'org_trip_dist':row[' trip_distance']}\n",
    "        \n",
    "    PoolData = { 'sumOfIndividualTrips':pool[' trip_distance'].sum(), 'dict':PoolDict}\n",
    "    \n",
    "    return PoolData"
   ]
  },
  {
   "cell_type": "code",
   "execution_count": 38,
   "metadata": {
    "collapsed": true,
    "deletable": true,
    "editable": true
   },
   "outputs": [],
   "source": [
    "#find all possible triplets combinations for a given triplet (dictionary ranges from 1 to 6)\n",
    "\n",
    "def findAllPossibleCombinations(tripletMatched):\n",
    "    possibleTripletsCombiDict = {}\n",
    "    i=0\n",
    "    for combi in itertools.permutations(list(tripletMatched),3):\n",
    "        i+=1\n",
    "        possibleTripletsCombiDict[i] = {'triplet':combi, 'distance':0, 'time':0}\n",
    "        \n",
    "    return possibleTripletsCombiDict"
   ]
  },
  {
   "cell_type": "code",
   "execution_count": 39,
   "metadata": {
    "collapsed": true,
    "deletable": true,
    "editable": true
   },
   "outputs": [],
   "source": [
    "#Obtain the request string\n",
    "def getInputData(lat1, long1, lat2, long2, lat3, long3):\n",
    "    reqString = \"http://localhost:8989/route?point=40.646016%2C-73.778438&point=\"+str(lat1)+\"%2C\"+str(long1)+\"&point=\"+str(lat2)+\"%2C\"+str(long2)+\"&point=\"+str(lat3)+\"%2C\"+str(long3)+\"&vehicle=car\"\n",
    "    \n",
    "    return reqString"
   ]
  },
  {
   "cell_type": "code",
   "execution_count": 40,
   "metadata": {
    "collapsed": true,
    "deletable": true,
    "editable": true
   },
   "outputs": [],
   "source": [
    "def getInputData2Points(lat1, long1, lat2, long2):\n",
    "    reqString = \"http://localhost:8989/route?point=40.646016%2C-73.778438&point=\"+str(lat1)+\"%2C\"+str(long1)+\"&point=\"+str(lat2)+\"%2C\"+str(long2)+\"&vehicle=car\"\n",
    "    ",
    "    return reqString\n",
    "    "
   ]
  },
  {
   "cell_type": "code",
   "execution_count": 41,
   "metadata": {
    "collapsed": true,
    "deletable": true,
    "editable": true
   },
   "outputs": [],
   "source": [
    "def sendRequest(triplet,PoolDict):\n",
    "    \n",
    "    lat1 = PoolDict[triplet[0]]['dropoff_latitude']\n",
    "    long1 = PoolDict[triplet[0]]['dropoff_longitude']\n",
    "    lat2 = PoolDict[triplet[1]]['dropoff_latitude']\n",
    "    long2 = PoolDict[triplet[1]]['dropoff_longitude']\n",
    "    lat3 = PoolDict[triplet[2]]['dropoff_latitude']\n",
    "    long3 = PoolDict[triplet[2]]['dropoff_longitude']\n",
    "    return requests.get(getInputData(lat1,long1,lat2,long2,lat3,long3))"
   ]
  },
  {
   "cell_type": "code",
   "execution_count": 42,
   "metadata": {
    "collapsed": true,
    "deletable": true,
    "editable": true
   },
   "outputs": [],
   "source": [
    "def sendRequest2Points(pair,PoolDict):\n",
    "    lat1 = PoolDict[pair[0]]['dropoff_latitude']\n",
    "    long1 = PoolDict[pair[0]]['dropoff_longitude']\n",
    "    lat2 = PoolDict[pair[1]]['dropoff_latitude']\n",
    "    long2 = PoolDict[pair[1]]['dropoff_longitude']\n",
    "    return requests.get(getInputData2Points(lat1,long1,lat2,long2))\n",
    "    "
   ]
  },
  {
   "cell_type": "code",
   "execution_count": 43,
   "metadata": {
    "collapsed": false,
    "deletable": true,
    "editable": true
   },
   "outputs": [],
   "source": [
    "def processAllCombinationsForATriplet(triplet, PoolDict):\n",
    "    #print(triplet)\n",
    "    AllCombis = findAllPossibleCombinations(triplet)\n",
    "    #Find out distance, time for every combination\n",
    "    for key,value in list(AllCombis.items()):\n",
    "            #print('******************')\n",
    "            #print(key)\n",
    "            response = sendRequest(value['triplet'],PoolDict)\n",
    "            if 'paths' in response.json().keys():\n",
    "                distance = response.json()['paths'][0]['distance']\n",
    "                time = response.json()['paths'][0]['time']\n",
    "                AllCombis[key]['distance'] = distance\n",
    "                AllCombis[key]['time'] = time\n",
    "            else:\n",
    "                #print(AllCombis)\n",
    "                del AllCombis[key]\n",
    "    #print([AllCombis[x]['distance'] for x in AllCombis])        \n",
    "    \n",
    "    if AllCombis:\n",
    "        minDistance = min([AllCombis[x]['distance'] for x in AllCombis]) \n",
    "    else:\n",
    "        return 0\n",
    "    \n",
    "    for key,value in AllCombis.items():\n",
    "        if value['distance'] == minDistance:\n",
    "            bestCombination = key\n",
    "    \n",
    "    return constraintsViolated(AllCombis[bestCombination],PoolDict)",
   ]
  },
  {
   "cell_type": "code",
   "execution_count": 44,
   "metadata": {
    "collapsed": true,
    "deletable": true,
    "editable": true
   },
   "outputs": [],
   "source": [
    "def processAllCombinationsForAPair(pair, PoolDict):\n",
    "    AllCombis = findAllPossibleCombinationsPair(pair, PoolDict)\n",
    "    #Find out distance, time for every combination\n",
    "    for key,value in list(AllCombis.items()):\n",
    "            response = sendRequest2Points(value['pair'], PoolDict)\n",
    "            if 'paths' in response.json().keys():\n",
    "                distance = response.json()['paths'][0]['distance']\n",
    "                time = response.json()['paths'][0]['time']\n",
    "                AllCombis[key]['distance'] = distance\n",
    "                AllCombis[key]['time'] = time\n",
    "            else:\n",
    "                del AllCombis[key]\n",
    "    #print(AllCombis)            \n",
    "    if AllCombis:\n",
    "        minDistance = min([AllCombis[x]['distance'] for x in AllCombis]) \n",
    "    else:\n",
    "        return 0\n",
    "    \n",
    "    for key,value in AllCombis.items():\n",
    "        if value['distance'] == minDistance:\n",
    "            bestCombination = key\n",
    "    \n",
    "    return constraintsViolated2Points(AllCombis[bestCombination],PoolDict)          \n",
    "            "
   ]
  },
  {
   "cell_type": "code",
   "execution_count": 45,
   "metadata": {
    "collapsed": true,
    "deletable": true,
    "editable": true
   },
   "outputs": [],
   "source": [
    "#find all possible triplets combinations for a given triplet (dictionary ranges from 1 to 6)\n",
    "def findAllPossibleCombinationsPair(pair, PoolDict):\n",
    "    possiblePairsCombiDict = {}\n",
    "    i=0\n",
    "    for combi in itertools.permutations(list(pair),2):\n",
    "        i+=1\n",
    "        possiblePairsCombiDict[i] = {'pair':combi, 'distance':0, 'time':0}\n",
    "    return possiblePairsCombiDict"
   ]
  },
  {
   "cell_type": "code",
   "execution_count": 46,
   "metadata": {
    "collapsed": true,
    "deletable": true,
    "editable": true
   },
   "outputs": [],
   "source": [
    "def constraintsViolated2Points(pathData,PoolDict):\n",
    "    points = pathData['pair']\n",
    "    #print(pathData)\n",
    "    #JFK to point1\n",
    "    resp1 = JFKToAPoint(PoolDict[points[0]]['dropoff_latitude'],PoolDict[points[0]]['dropoff_longitude'])\n",
    "    if 'paths' in resp1.json().keys():\n",
    "        time1 = resp1.json()['paths'][0]['time']\n",
    "        dist1 = resp1.json()['paths'][0]['distance']\n",
    "    else:\n",
    "        return 0\n",
    "\n",
    "    \n",
    "    if PoolDict[points[1]]['delay_time'] < pathData['time']:\n",
    "        return 0\n",
    "    \n",
    "    \n",
    "    #Distance Constraint Check\n",
    "    distSaved = (PoolDict[points[0]]['org_trip_dist']+PoolDict[points[1]]['org_trip_dist']) - pathData['distance'] \n",
    "   \n",
    "    if distSaved < 0:\n",
    "        return 0\n",
    "    \n",
    " \n",
    "    return distSaved\n",
    "    "
   ]
  },
  {
   "cell_type": "code",
   "execution_count": 47,
   "metadata": {
    "collapsed": false,
    "deletable": true,
    "editable": true
   },
   "outputs": [],
   "source": [
    "def constraintsViolated(pathData, PoolDict):\n",
    "    points = pathData['triplet']\n",
    "    #print(pathData)\n",
    "    #JFK to point1\n",
    "    resp1 = JFKToAPoint(PoolDict[points[0]]['dropoff_latitude'],PoolDict[points[0]]['dropoff_longitude'])\n",
    "    if 'paths' in resp1.json().keys():\n",
    "        time1 = resp1.json()['paths'][0]['time']\n",
    "        dist1 = resp1.json()['paths'][0]['distance']\n",
    "    else:\n",
    "        return 0\n",
    "\n",
    "    resp2 = sendRequest2Points((points[0],points[1]),PoolDict)\n",
    "    if 'paths' in resp2.json().keys():\n",
    "        time2 = resp2.json()['paths'][0]['time']\n",
    "        dist2 = resp2.json()['paths'][0]['distance']\n",
    "    else:\n",
    "        return 0\n",
    "    \n",
    "    #Delay Time Constraint Check\n",
    "    if PoolDict[points[1]]['delay_time'] < (time1 + time2):\n",
    "        return 0\n",
    "    \n",
    " \n",
    "    if PoolDict[points[2]]['delay_time'] < pathData['time']:\n",
    "        return 0\n",
    "    \n",
    "    \n",
    "    #Distance Constraint Check\n",
    "    distSaved = (PoolDict[points[0]]['org_trip_dist']+PoolDict[points[1]]['org_trip_dist']+PoolDict[points[2]]['org_trip_dist'] ) - pathData['distance'] \n",
    "     \n",
    "    if distSaved < 0:\n",
    "        return 0\n",
    "    \n",
    "    return distSaved\n",
    "    "
   ]
  },
  {
   "cell_type": "markdown",
   "metadata": {
    "deletable": true,
    "editable": true
   },
   "source": [
    "# Processing for k=3"
   ]
  },
  {
   "cell_type": "code",
   "execution_count": 48,
   "metadata": {
    "collapsed": false,
    "deletable": true,
    "editable": true
   },
   "outputs": [],
   "source": [
    "import itertools\n",
    "\n",
    "def processPool(PoolData, rowValue):\n",
    "    \n",
    "    PoolDict = PoolData['dict']\n",
    "    #Find All valid triplets\n",
    "    validTriplets = {}\n",
    "    for item in itertools.combinations(list(PoolDict.keys()),3): #AllTriplets\n",
    "        total_passengers = 0\n",
    "        for x in item:\n",
    "            total_passengers += PoolDict[x]['passenger_count']\n",
    "\n",
    "        if total_passengers <= 4:\n",
    "            distSaved = processAllCombinationsForATriplet(item,PoolDict)\n",
    "            if distSaved != 0:\n",
    "                validTriplets[item] = distSaved\n",
    "\n",
    "    individualTrips = list(PoolDict.keys()).copy()\n",
    "    validTriplets1 = validTriplets.copy()\n",
    "    \n",
    "    #Greedily Match Valid Triplets\n",
    "    matchedTrips = []\n",
    "\n",
    "    while validTriplets1:\n",
    "        #print(len(validTriplets1))\n",
    "        bestTriplet = list(validTriplets1.keys())[list(validTriplets1.values()).index(max(validTriplets1.values()))]\n",
    "        #Delete all tuples that contain any of the best triplets\n",
    "        for item in bestTriplet:\n",
    "            for key in list(validTriplets1):\n",
    "                if item in key:\n",
    "                    del validTriplets1[key]\n",
    "            individualTrips.remove(item)\n",
    "\n",
    "        #Append to matchedTrips\n",
    "        matchedTrips.append(bestTriplet)\n",
    "    #macthedTrips holds all greedily macthed tripelts\n",
    "    \n",
    "    #Maximum matching the remaining individual trips\n",
    "    \n",
    "    validPairs = {}\n",
    "    for item in itertools.combinations(individualTrips,2): #AllRemainingPairs\n",
    "        total_passengers = 0\n",
    "        for x in item:\n",
    "            total_passengers += PoolDict[x]['passenger_count']\n",
    "        if total_passengers <= 4:\n",
    "            distSaved = processAllCombinationsForAPair(item, PoolDict)\n",
    "            if distSaved > 0:\n",
    "                validPairs[item] = distSaved\n",
    "    \n",
    "    #Matching the remaing individual trips\n",
    "    import networkx as nx\n",
    "    #Forming the sharability network\n",
    "    G=nx.Graph()\n",
    "    G.add_nodes_from(individualTrips)\n",
    "    for pair in validPairs.keys():\n",
    "        G.add_edge(pair[0],pair[1],weight = validPairs[pair])\n",
    "        \n",
    "    \n",
    "    max_matching = nx.max_weight_matching(G,maxcardinality = True)\n",
    "    #Max matching provides both pairs (a,b) and (b,a); Removing one of them\n",
    "    for key,value in list(max_matching.items()):\n",
    "        #print(\"*******\")\n",
    "        #print(max_matching)\n",
    "        if (value,key) in max_matching.items():\n",
    "            del max_matching[key]\n",
    "        #print(max_matching)\n",
    "\n",
    "    #Calculate distance saved from pairs   \n",
    "    distSavedFromPairs = 0\n",
    "    for key in max_matching.keys():\n",
    "        if (key,max_matching[key]) in validPairs.keys():\n",
    "            distSavedFromPairs += validPairs[(key,max_matching[key])]\n",
    "        elif (max_matching[key],key) in validPairs.keys():\n",
    "            distSavedFromPairs += validPairs[(max_matching[key],key)]\n",
    "    print(\"Distance Saved from Pairs: \"+str(distSavedFromPairs/1609.34))\n",
    "    sheet1.write(rowValue,0,distSavedFromPairs/1609.34)\n",
    "    \n",
    "    distSavedFromTriplets = 0\n",
    "    for triplet in matchedTrips:\n",
    "        distSavedFromTriplets+= validTriplets[triplet]\n",
    "    print(\"Distance saved from Triplets: \"+str(distSavedFromTriplets/1609.34))\n",
    "    \n",
    "    sheet1.write(rowValue,1,distSavedFromTriplets/1609.34)\n",
    "    totalRideSharingSavings = distSavedFromTriplets + distSavedFromPairs\n",
    "    print(\"Total distance saved from Ride-Sharing: \"+ str(totalRideSharingSavings/1609.34))\n",
    "    \n",
    "    sheet1.write(rowValue,2,totalRideSharingSavings/1609.34)\n",
    "    \n",
    "    sumOfInd = PoolData['sumOfIndividualTrips']\n",
    "    print(\"Total distance travelled without Ride-Sharing: \"+str(sumOfInd/1609.34))\n",
    "    \n",
    "    sheet1.write(rowValue,3,sumOfInd/1609.34)\n",
    "    \n",
    "    print(\"Total distance travelled with Ride-Sharing: \"+str((sumOfInd - totalRideSharingSavings)/1609.34))\n",
    "    sheet1.write(rowValue,4,(sumOfInd - totalRideSharingSavings)/1609.34)\n",
    "    \n",
    "    pairedTrips = [item for k in max_matching for item in (k, max_matching[k])]\n",
    "    numberOfLoneTrips = len([x for x in individualTrips if x not in pairedTrips])\n",
    "    numberOfMergedTrips = len(matchedTrips) + len(max_matching)\n",
    "    totalTripsMerged = numberOfLoneTrips + numberOfMergedTrips\n",
    "    if sumOfInd !=0:\n",
    "        percentDistSaved = ((sumOfInd - totalRideSharingSavings)/sumOfInd)*100\n",
    "    else:\n",
    "        percentDistSaved = 0\n",
    "    \n",
    "    print(\"Percentage of Original distance travelled: \"+str(percentDistSaved))\n",
    "    sheet1.write(rowValue,5,percentDistSaved)\n",
    "    \n",
    "    print(\"Total number of individual trips: \"+str(len(PoolDict.keys())))\n",
    "    sheet1.write(rowValue,6,len(PoolDict.keys()))\n",
    "    \n",
    "    print(\"Number of merged trips each of size 3: \"+str(len(matchedTrips)))\n",
    "    sheet1.write(rowValue,7,len(matchedTrips))\n",
    "    \n",
    "    print(\"Number of merged trips each of size 2: \"+str(len(max_matching)))\n",
    "    sheet1.write(rowValue,8,len(max_matching))\n",
    "    \n",
    "    print(\"Number of lone trips: \"+str(numberOfLoneTrips))\n",
    "    sheet1.write(rowValue,9,numberOfLoneTrips)\n",
    "    \n",
    "    print(\"Number of trips after ride-sharing: \"+str(totalTripsMerged))\n",
    "    sheet1.write(rowValue,10,totalTripsMerged)\n",
    "    \n",
    "    if len(PoolDict.keys()) != 0:\n",
    "        #percentTripsSaved = ((len(PoolDict.keys()) - totalTripsMerged )/len(PoolDict.keys()))*100\n",
    "        percentTripsSaved = ((totalTripsMerged )/len(PoolDict.keys()))*100\n",
    "    else:\n",
    "        percentTripsSaved = 0\n",
    "    print(\"Percentage of trips saved: \"+str(percentTripsSaved))\n",
    "    sheet1.write(rowValue,11,percentTripsSaved)\n",
    "    \n",
    "    \n",
    "\n",
    "\n",
    "    "
   ]
  },
  {
   "cell_type": "markdown",
   "metadata": {
    "deletable": true,
    "editable": true
   },
   "source": [
    "# Processing for k=2"
   ]
  },
  {
   "cell_type": "code",
   "execution_count": 49,
   "metadata": {
    "collapsed": true,
    "deletable": true,
    "editable": true
   },
   "outputs": [],
   "source": [
    "def ridesharingWithKas2(PoolData, rowValue):\n",
    "    PoolDict = PoolData['dict']\n",
    "    validPairs = {}\n",
    "    individualTrips = list(PoolDict.keys()).copy()\n",
    "    for item in itertools.combinations(list(PoolDict.keys()),2): #AllRemainingPairs\n",
    "        total_passengers = 0\n",
    "        for x in item:\n",
    "            total_passengers += PoolDict[x]['passenger_count']\n",
    "        if total_passengers <= 4:\n",
    "            distSaved = processAllCombinationsForAPair(item, PoolDict)\n",
    "            if distSaved > 0:\n",
    "                validPairs[item] = distSaved\n",
    "    \n",
    "    #Matching the remaing individual trips\n",
    "    import networkx as nx\n",
    "    #Forming the sharability network\n",
    "    G=nx.Graph()\n",
    "    G.add_nodes_from(individualTrips)\n",
    "    for pair in validPairs.keys():\n",
    "        G.add_edge(pair[0],pair[1],weight = validPairs[pair])\n",
    "        \n",
    "    \n",
    "    max_matching = nx.max_weight_matching(G,maxcardinality = True)\n",
    "    #Max matching provides both pairs (a,b) and (b,a); Removing one of them\n",
    "    for key,value in list(max_matching.items()):\n",
    "        if (value,key) in max_matching.items():\n",
    "            del max_matching[key]\n",
    "        #print(max_matching)\n",
    "\n",
    "    #Calculate distance saved from pairs   \n",
    "    distSavedFromPairs = 0\n",
    "    for key in max_matching.keys():\n",
    "        if (key,max_matching[key]) in validPairs.keys():\n",
    "            distSavedFromPairs += validPairs[(key,max_matching[key])]\n",
    "        elif (max_matching[key],key) in validPairs.keys():\n",
    "            distSavedFromPairs += validPairs[(max_matching[key],key)]\n",
    "    print(\"Distance Saved from Pairs: \"+str(distSavedFromPairs/1609.34))\n",
    "    sheet2.write(rowValue,0,distSavedFromPairs/1609.34)\n",
    "    \n",
    "    \n",
    "    \n",
    "    sumOfInd = PoolData['sumOfIndividualTrips']\n",
    "    print(\"Total distance travelled without Ride-Sharing: \"+str(sumOfInd/1609.34))\n",
    "    \n",
    "    sheet2.write(rowValue,1,sumOfInd/1609.34)\n",
    "    \n",
    "    print(\"Total distance travelled with Ride-Sharing: \"+str((sumOfInd - distSavedFromPairs)/1609.34))\n",
    "    #sheet2.write(rowValue,2,(sumOfInd - distSavedFromPairs)/1609.34)\n",
    "    \n",
    "    #print(max_matching)\n",
    "    pairedTrips = [item for k in max_matching for item in (k, max_matching[k])]\n",
    "    loneTrips = [x for x in individualTrips if x not in pairedTrips]\n",
    "    loneTripDist = 0\n",
    "    for trip in loneTrips:\n",
    "        loneTripDist += PoolDict[trip]['org_trip_dist']\n",
    "     \n",
    "    print(\"Lone Trip Distance: \"+str(loneTripDist/1608))\n",
    "    numberOfLoneTrips = len([x for x in individualTrips if x not in pairedTrips])\n",
    "    totalTripsMerged = numberOfLoneTrips + len(max_matching)\n",
    "    \n",
    "    if sumOfInd !=0:\n",
    "        percentDistSaved = ((sumOfInd - distSavedFromPairs)/sumOfInd)*100\n",
    "    else:\n",
    "        percentDistSaved = 0\n",
    "    \n",
    "    print(\"Percentage of original distance travelled: \"+str(percentDistSaved))\n",
    "    sheet2.write(rowValue,3,percentDistSaved)\n",
    "    \n",
    "    print(\"Total number of individual trips: \"+str(len(PoolDict.keys())))\n",
    "    sheet2.write(rowValue,4,len(PoolDict.keys()))\n",
    "    \n",
    "    print(\"Number of merged trips each of size 2: \"+str(len(max_matching)))\n",
    "    sheet2.write(rowValue,5,len(max_matching))\n",
    "    \n",
    "    print(\"Number of lone trips: \"+str(numberOfLoneTrips))\n",
    "    sheet2.write(rowValue,6,numberOfLoneTrips)\n",
    "    \n",
    "    print(\"Number of trips after ride-sharing: \"+str(totalTripsMerged))\n",
    "    sheet2.write(rowValue,7,totalTripsMerged)\n",
    "    \n",
    "    if len(PoolDict.keys()) != 0:\n",
    "        percentTripsSaved = ((totalTripsMerged )/len(PoolDict.keys()))*100\n",
    "    else:\n",
    "        percentTripsSaved = 0\n",
    "    print(\"Percentage of original trips when ride-sharing: \"+str(percentTripsSaved))\n",
    "    sheet2.write(rowValue,8,percentTripsSaved)\n",
    "    "
   ]
  },
  {
   "cell_type": "markdown",
   "metadata": {
    "editable": true
   },
   "source": [
    "# RUN TEST FOR K = 3 BELOW"
   ]
  },
  {
   "cell_type": "markdown",
   "metadata": {
    "editable": true
   },
   "source": [
    "## 2) Change excel file name below"
   ]
  },
  {
   "cell_type": "code",
   "execution_count": 63,
   "metadata": {
    "collapsed": false,
    "deletable": true,
    "editable": true
   },
   "outputs": [],
   "source": [
    "import xlsxwriter as xw\n",
    "\n",
    "book1 = xw.Workbook('TEST_K3_PW3_DF13.xlsx')\n",
    "sheet1 = book1.add_worksheet()\n"
   ]
  },
  {
   "cell_type": "markdown",
   "metadata": {},
   "source": [
    "## 3) Change number of pools to process (2nd parameter)"
   ]
  },
  {
   "cell_type": "markdown",
   "metadata": {},
   "source": [
    "## 4) Change pool window size in minutes (3rd parameter)"
   ]
  },
  {
   "cell_type": "code",
   "execution_count": null,
   "metadata": {
    "collapsed": false,
    "deletable": true,
    "editable": true
   },
   "outputs": [],
   "source": [
    "%%time\n",
    "#k=3\n",
    "#mainFunction(start date and time, number of pools to process, poolwindow)\n",
    "#time is in military time\n",
    "mainFunction('5/1/13 12:00:00',5,'3min')"
   ]
  },
  {
   "cell_type": "markdown",
   "metadata": {
    "editable": true
   },
   "source": [
    "# RUN TEST FOR K = 2 BELOW"
   ]
  },
  {
   "cell_type": "markdown",
   "metadata": {
    "editable": true
   },
   "source": [
    "## 2) Change excel file name below"
   ]
  },
  {
   "cell_type": "code",
   "execution_count": 65,
   "metadata": {
    "collapsed": true,
    "deletable": true,
    "editable": true
   },
   "outputs": [],
   "source": [
    "book2 = xw.Workbook('TEST_K2_PW3_DF13.xlsx')\n",
    "sheet2 = book2.add_worksheet()"
   ]
  },
  {
   "cell_type": "markdown",
   "metadata": {},
   "source": [
    "## 3) Change number of pools to process (2nd parameter)"
   ]
  },
  {
   "cell_type": "markdown",
   "metadata": {},
   "source": [
    "## 4) Change pool window size in minutes (3rd parameter)"
   ]
  },
  {
   "cell_type": "code",
   "execution_count": null,
   "metadata": {
    "collapsed": false,
    "deletable": true,
    "editable": true
   },
   "outputs": [],
   "source": [
    "%%time\n",
    "#for k=2\n",
    "#mainFunction2(start date and time, number of pools to process, poolwindow)\n",
    "#time is in military time\n",
    "mainFunction2('5/1/13 12:00:00',5,'3min')"
   ]
  }
 ],
 "metadata": {
  "kernelspec": {
   "display_name": "Python 3",
   "language": "python",
   "name": "python3"
  },
  "language_info": {
   "codemirror_mode": {
    "name": "ipython",
    "version": 3
   },
   "file_extension": ".py",
   "mimetype": "text/x-python",
   "name": "python",
   "nbconvert_exporter": "python",
   "pygments_lexer": "ipython3",
   "version": "3.6.1"
  }
 },
 "nbformat": 4,
 "nbformat_minor": 2
}
